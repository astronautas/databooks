{
 "cells": [
  {
   "cell_type": "markdown",
   "id": "9adc7c77-95f1-4cb9-b987-1411e28f2976",
   "metadata": {
    "tags": []
   },
   "source": [
    "# `databooks` demo!"
   ]
  },
  {
   "cell_type": "code",
   "execution_count": 1,
   "id": "6a6eafec-a799-455b-8c1b-fd43a0a1f3ca",
   "metadata": {
    "tags": [
     "random-tag"
    ]
   },
   "outputs": [],
   "source": [
    "from random import random  # cell with tags"
   ]
  },
  {
   "cell_type": "code",
   "execution_count": 2,
   "id": "8b852d3e-5482-4feb-8bd1-e902ed6ecaff",
   "metadata": {
    "tags": []
   },
   "outputs": [
    {
     "data": {
      "text/plain": [
       "0.570736084214906"
      ]
     },
     "execution_count": 2,
     "metadata": {},
     "output_type": "execute_result"
    }
   ],
   "source": [
    "random()"
   ]
  },
  {
   "cell_type": "code",
   "execution_count": 3,
   "id": "4dcb36c4-d671-4ec9-9bff-87857b3f718a",
   "metadata": {},
   "outputs": [
    {
     "name": "stdout",
     "output_type": "stream",
     "text": [
      "notebooks + git ❤️\n"
     ]
    }
   ],
   "source": [
    "print(\"notebooks + git ❤️\")"
   ]
  },
  {
   "cell_type": "code",
   "execution_count": 4,
   "id": "53cd4d06-b52e-4fbb-9ae1-d55babe2f3a2",
   "metadata": {},
   "outputs": [
    {
     "ename": "SyntaxError",
     "evalue": "invalid syntax (1516912967.py, line 1)",
     "output_type": "error",
     "traceback": [
      "\u001b[0;36m  Cell \u001b[0;32mIn [4], line 1\u001b[0;36m\u001b[0m\n\u001b[0;31m    throw error\u001b[0m\n\u001b[0m          ^\u001b[0m\n\u001b[0;31mSyntaxError\u001b[0m\u001b[0;31m:\u001b[0m invalid syntax\n"
     ]
    }
   ],
   "source": [
    "throw error"
   ]
  },
  {
   "cell_type": "raw",
   "id": "b2cf154d-0d1d-44d1-9ab8-7ee4b3d37f12",
   "metadata": {},
   "source": [
    "This is a raw cell! 🚀"
   ]
  },
  {
   "cell_type": "code",
   "execution_count": 5,
   "id": "778505c2-af3d-4653-9e82-5a9d8d1e72bc",
   "metadata": {},
   "outputs": [
    {
     "name": "stdout",
     "output_type": "stream",
     "text": [
      "A dataframe! 🐼\n"
     ]
    },
    {
     "data": {
      "text/html": [
       "<div>\n",
       "<style scoped>\n",
       "    .dataframe tbody tr th:only-of-type {\n",
       "        vertical-align: middle;\n",
       "    }\n",
       "\n",
       "    .dataframe tbody tr th {\n",
       "        vertical-align: top;\n",
       "    }\n",
       "\n",
       "    .dataframe thead th {\n",
       "        text-align: right;\n",
       "    }\n",
       "</style>\n",
       "<table border=\"1\" class=\"dataframe\">\n",
       "  <thead>\n",
       "    <tr style=\"text-align: right;\">\n",
       "      <th></th>\n",
       "      <th>col0</th>\n",
       "      <th>col1</th>\n",
       "      <th>col2</th>\n",
       "    </tr>\n",
       "  </thead>\n",
       "  <tbody>\n",
       "    <tr>\n",
       "      <th>0</th>\n",
       "      <td>0.849474</td>\n",
       "      <td>0.756456</td>\n",
       "      <td>0.268569</td>\n",
       "    </tr>\n",
       "    <tr>\n",
       "      <th>1</th>\n",
       "      <td>0.511937</td>\n",
       "      <td>0.357224</td>\n",
       "      <td>0.570879</td>\n",
       "    </tr>\n",
       "    <tr>\n",
       "      <th>2</th>\n",
       "      <td>0.836116</td>\n",
       "      <td>0.928280</td>\n",
       "      <td>0.946514</td>\n",
       "    </tr>\n",
       "    <tr>\n",
       "      <th>3</th>\n",
       "      <td>0.803129</td>\n",
       "      <td>0.540215</td>\n",
       "      <td>0.335783</td>\n",
       "    </tr>\n",
       "    <tr>\n",
       "      <th>4</th>\n",
       "      <td>0.074853</td>\n",
       "      <td>0.661168</td>\n",
       "      <td>0.344527</td>\n",
       "    </tr>\n",
       "    <tr>\n",
       "      <th>5</th>\n",
       "      <td>0.299696</td>\n",
       "      <td>0.782420</td>\n",
       "      <td>0.970147</td>\n",
       "    </tr>\n",
       "    <tr>\n",
       "      <th>6</th>\n",
       "      <td>0.159906</td>\n",
       "      <td>0.566822</td>\n",
       "      <td>0.243798</td>\n",
       "    </tr>\n",
       "    <tr>\n",
       "      <th>7</th>\n",
       "      <td>0.896461</td>\n",
       "      <td>0.174406</td>\n",
       "      <td>0.758376</td>\n",
       "    </tr>\n",
       "    <tr>\n",
       "      <th>8</th>\n",
       "      <td>0.708324</td>\n",
       "      <td>0.895195</td>\n",
       "      <td>0.769364</td>\n",
       "    </tr>\n",
       "    <tr>\n",
       "      <th>9</th>\n",
       "      <td>0.860726</td>\n",
       "      <td>0.381919</td>\n",
       "      <td>0.329727</td>\n",
       "    </tr>\n",
       "  </tbody>\n",
       "</table>\n",
       "</div>"
      ],
      "text/plain": [
       "       col0      col1      col2\n",
       "0  0.849474  0.756456  0.268569\n",
       "1  0.511937  0.357224  0.570879\n",
       "2  0.836116  0.928280  0.946514\n",
       "3  0.803129  0.540215  0.335783\n",
       "4  0.074853  0.661168  0.344527\n",
       "5  0.299696  0.782420  0.970147\n",
       "6  0.159906  0.566822  0.243798\n",
       "7  0.896461  0.174406  0.758376\n",
       "8  0.708324  0.895195  0.769364\n",
       "9  0.860726  0.381919  0.329727"
      ]
     },
     "execution_count": 5,
     "metadata": {},
     "output_type": "execute_result"
    }
   ],
   "source": [
    "import pandas as pd\n",
    "import numpy as np\n",
    "\n",
    "print(\"A dataframe! 🐼\")\n",
    "pd.DataFrame(np.random.random((10,3)), columns=[f\"col{i}\" for i in range(3)])"
   ]
  },
  {
   "cell_type": "code",
   "execution_count": null,
   "id": "9fc3e4d7-451d-4ab2-9908-f92d20262e3f",
   "metadata": {},
   "outputs": [],
   "source": []
  }
 ],
 "metadata": {
  "kernelspec": {
   "display_name": "Python 3 (ipykernel)",
   "language": "python",
   "name": "python3"
  },
  "language_info": {
   "codemirror_mode": {
    "name": "ipython",
    "version": 3
   },
   "file_extension": ".py",
   "mimetype": "text/x-python",
   "name": "python",
   "nbconvert_exporter": "python",
   "pygments_lexer": "ipython3",
   "version": "3.8.13"
  },
  "toc-autonumbering": false,
  "toc-showcode": true,
  "toc-showmarkdowntxt": false,
  "toc-showtags": false
 },
 "nbformat": 4,
 "nbformat_minor": 5
}
